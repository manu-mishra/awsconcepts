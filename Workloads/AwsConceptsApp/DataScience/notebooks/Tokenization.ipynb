{
 "cells": [
  {
   "attachments": {},
   "cell_type": "markdown",
   "metadata": {},
   "source": [
    "# Sample Notebook"
   ]
  },
  {
   "attachments": {},
   "cell_type": "markdown",
   "metadata": {},
   "source": [
    "## install dependencies"
   ]
  },
  {
   "cell_type": "code",
   "execution_count": null,
   "metadata": {},
   "outputs": [],
   "source": [
    "%pip install transformers[torch]\n",
    "%pip install beautifulsoup4\n",
    "%pip install boto3"
   ]
  },
  {
   "attachments": {},
   "cell_type": "markdown",
   "metadata": {},
   "source": [
    "## Define helper methods"
   ]
  },
  {
   "cell_type": "code",
   "execution_count": 3,
   "metadata": {},
   "outputs": [],
   "source": [
    "import os\n",
    "import boto3\n",
    "import io\n",
    "import json\n",
    "\n",
    "from bs4 import BeautifulSoup\n",
    "\n",
    "def extract_text_from_html(raw_html):\n",
    "    soup = BeautifulSoup(raw_html, 'html.parser')\n",
    "    text = ' '.join([tag.get_text() for tag in soup.find_all('section')])\n",
    "    return text\n",
    "\n",
    "def extract_text_from_s3_file(bucket_name, file_name, output_filename):\n",
    "    s3 = boto3.client('s3')\n",
    "    obj = s3.get_object(Bucket=bucket_name, Key=file_name)\n",
    "    \n",
    "    # Use a streaming approach to process the file line by line\n",
    "    bytestream = io.BytesIO(obj['Body'].read())\n",
    "    \n",
    "    with open(output_filename, 'w') as outfile:\n",
    "        for line in bytestream:\n",
    "            item = json.loads(line.decode('utf-8'))\n",
    "            raw_html = item.get('RawHtml', '')\n",
    "            text = extract_text_from_html(raw_html)\n",
    "            outfile.write(text + \"\\n\")\n",
    "    \n",
    "    print(f\"Processing complete. Text written to: {output_filename}\")\n",
    "    \n",
    "    # Upload the output file to S3\n",
    "    s3.upload_file(output_filename, bucket_name, output_filename)\n",
    "    print(f\"File uploaded to: {bucket_name}/{output_filename}\")\n",
    "    \n",
    "    # Delete the local output file\n",
    "    os.remove(output_filename)\n",
    "    print(f\"Local file deleted: {output_filename}\")\n"
   ]
  },
  {
   "attachments": {},
   "cell_type": "markdown",
   "metadata": {},
   "source": [
    "## Prepare Data"
   ]
  },
  {
   "attachments": {},
   "cell_type": "markdown",
   "metadata": {},
   "source": [
    "### extract text from blogs json and upload to S3"
   ]
  },
  {
   "cell_type": "code",
   "execution_count": 4,
   "metadata": {},
   "outputs": [
    {
     "ename": "NameError",
     "evalue": "name 'json' is not defined",
     "output_type": "error",
     "traceback": [
      "\u001b[1;31m---------------------------------------------------------------------------\u001b[0m",
      "\u001b[1;31mNameError\u001b[0m                                 Traceback (most recent call last)",
      "Cell \u001b[1;32mIn[4], line 4\u001b[0m\n\u001b[0;32m      1\u001b[0m bucket_name \u001b[39m=\u001b[39m \u001b[39m\"\u001b[39m\u001b[39mawsc.datascience.objecjstore\u001b[39m\u001b[39m\"\u001b[39m\n\u001b[0;32m      2\u001b[0m file_name \u001b[39m=\u001b[39m \u001b[39m\"\u001b[39m\u001b[39mraw_data/allBlogList20230613Detailed.json\u001b[39m\u001b[39m\"\u001b[39m\n\u001b[1;32m----> 4\u001b[0m text_list \u001b[39m=\u001b[39m extract_text_from_s3_file(bucket_name, file_name, \u001b[39m\"\u001b[39;49m\u001b[39mrawtext.txt\u001b[39;49m\u001b[39m\"\u001b[39;49m)\n",
      "Cell \u001b[1;32mIn[3], line 14\u001b[0m, in \u001b[0;36mextract_text_from_s3_file\u001b[1;34m(bucket_name, file_name, output_filename)\u001b[0m\n\u001b[0;32m     12\u001b[0m \u001b[39mwith\u001b[39;00m \u001b[39mopen\u001b[39m(output_filename, \u001b[39m'\u001b[39m\u001b[39mw\u001b[39m\u001b[39m'\u001b[39m) \u001b[39mas\u001b[39;00m outfile:\n\u001b[0;32m     13\u001b[0m     \u001b[39mfor\u001b[39;00m line \u001b[39min\u001b[39;00m bytestream:\n\u001b[1;32m---> 14\u001b[0m         item \u001b[39m=\u001b[39m json\u001b[39m.\u001b[39mloads(line\u001b[39m.\u001b[39mdecode(\u001b[39m'\u001b[39m\u001b[39mutf-8\u001b[39m\u001b[39m'\u001b[39m))\n\u001b[0;32m     15\u001b[0m         raw_html \u001b[39m=\u001b[39m item\u001b[39m.\u001b[39mget(\u001b[39m'\u001b[39m\u001b[39mRawHtml\u001b[39m\u001b[39m'\u001b[39m, \u001b[39m'\u001b[39m\u001b[39m'\u001b[39m)\n\u001b[0;32m     16\u001b[0m         text \u001b[39m=\u001b[39m extract_text_from_html(raw_html)\n",
      "\u001b[1;31mNameError\u001b[0m: name 'json' is not defined"
     ]
    }
   ],
   "source": [
    "bucket_name = \"awsc.datascience.objecjstore\"\n",
    "file_name = \"raw_data/allBlogList20230613Detailed.json\"\n",
    "\n",
    "text_list = extract_text_from_s3_file(bucket_name, file_name, \"rawtext.txt\")"
   ]
  },
  {
   "attachments": {},
   "cell_type": "markdown",
   "metadata": {},
   "source": []
  },
  {
   "attachments": {},
   "cell_type": "markdown",
   "metadata": {},
   "source": [
    "## Load Model"
   ]
  },
  {
   "cell_type": "code",
   "execution_count": null,
   "metadata": {},
   "outputs": [],
   "source": [
    "from transformers import AutoTokenizer, AutoModel\n",
    "import torch\n",
    "\n",
    "model_name = 'bert-base-uncased'\n",
    "\n",
    "# Load the tokenizer and the model\n",
    "tokenizer = AutoTokenizer.from_pretrained(model_name)\n",
    "model = AutoModel.from_pretrained(model_name)\n",
    "\n"
   ]
  },
  {
   "attachments": {},
   "cell_type": "markdown",
   "metadata": {},
   "source": [
    "Run Vector"
   ]
  },
  {
   "cell_type": "code",
   "execution_count": null,
   "metadata": {},
   "outputs": [],
   "source": [
    "# Define a sample text\n",
    "text = \"Hello, this is a test.\"\n",
    "\n",
    "# Encode the text to get the input tensors\n",
    "inputs = tokenizer(text, return_tensors='pt')\n",
    "\n",
    "# Run the text through the model to get the embeddings\n",
    "outputs = model(**inputs)\n",
    "\n",
    "# Use the average of the last hidden state as the text's embedding\n",
    "embeddings = outputs.last_hidden_state.mean(dim=1)\n",
    "\n",
    "# Convert the tensor to a numpy array\n",
    "vectors = embeddings.detach().numpy()\n",
    "\n",
    "print (vectors[:, :50])"
   ]
  }
 ],
 "metadata": {
  "kernelspec": {
   "display_name": "base",
   "language": "python",
   "name": "python3"
  },
  "language_info": {
   "codemirror_mode": {
    "name": "ipython",
    "version": 3
   },
   "file_extension": ".py",
   "mimetype": "text/x-python",
   "name": "python",
   "nbconvert_exporter": "python",
   "pygments_lexer": "ipython3",
   "version": "3.10.9"
  },
  "orig_nbformat": 4
 },
 "nbformat": 4,
 "nbformat_minor": 2
}
