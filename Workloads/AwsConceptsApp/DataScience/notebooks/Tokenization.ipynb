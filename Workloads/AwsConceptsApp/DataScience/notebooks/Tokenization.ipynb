{
 "cells": [
  {
   "attachments": {},
   "cell_type": "markdown",
   "metadata": {},
   "source": [
    "# Sample Notebook"
   ]
  },
  {
   "attachments": {},
   "cell_type": "markdown",
   "metadata": {},
   "source": [
    "## install dependencies"
   ]
  },
  {
   "cell_type": "code",
   "execution_count": null,
   "metadata": {},
   "outputs": [],
   "source": [
    "!pip install 'transformers[torch]'"
   ]
  },
  {
   "attachments": {},
   "cell_type": "markdown",
   "metadata": {},
   "source": [
    "## Load Model"
   ]
  },
  {
   "cell_type": "code",
   "execution_count": 9,
   "metadata": {},
   "outputs": [
    {
     "name": "stderr",
     "output_type": "stream",
     "text": [
      "Some weights of the model checkpoint at bert-base-uncased were not used when initializing BertModel: ['cls.predictions.transform.LayerNorm.bias', 'cls.predictions.transform.dense.weight', 'cls.seq_relationship.weight', 'cls.predictions.transform.dense.bias', 'cls.seq_relationship.bias', 'cls.predictions.decoder.weight', 'cls.predictions.bias', 'cls.predictions.transform.LayerNorm.weight']\n",
      "- This IS expected if you are initializing BertModel from the checkpoint of a model trained on another task or with another architecture (e.g. initializing a BertForSequenceClassification model from a BertForPreTraining model).\n",
      "- This IS NOT expected if you are initializing BertModel from the checkpoint of a model that you expect to be exactly identical (initializing a BertForSequenceClassification model from a BertForSequenceClassification model).\n"
     ]
    }
   ],
   "source": [
    "from transformers import AutoTokenizer, AutoModel\n",
    "import torch\n",
    "\n",
    "model_name = 'bert-base-uncased'\n",
    "\n",
    "# Load the tokenizer and the model\n",
    "tokenizer = AutoTokenizer.from_pretrained(model_name)\n",
    "model = AutoModel.from_pretrained(model_name)\n",
    "\n"
   ]
  },
  {
   "attachments": {},
   "cell_type": "markdown",
   "metadata": {},
   "source": [
    "Run Vector"
   ]
  },
  {
   "cell_type": "code",
   "execution_count": 15,
   "metadata": {},
   "outputs": [
    {
     "name": "stdout",
     "output_type": "stream",
     "text": [
      "[[-0.77382195  0.10704014  0.44775397 -0.08637124  0.35413992  0.03406591\n",
      "   0.16264133  0.58041024 -0.23546062 -0.14814864 -0.0935005  -0.39231786\n",
      "  -0.33704147  0.2717751  -0.12507012  0.35159644  0.41959     0.1162833\n",
      "  -0.18021566  0.37518147 -0.16880287  0.17903076 -0.23813213  0.40838736\n",
      "   0.16964942 -0.0612941   0.16057596  0.03659857 -0.309846   -0.03385863\n",
      "   0.35843623  0.06824324  0.19181494 -0.22375077 -0.21855049 -0.2087363\n",
      "   0.5018591   0.10408244 -0.30850494 -0.00264207 -0.65153766 -0.41132504\n",
      "   0.11561029  0.09209279 -0.3221398  -0.2758163   0.3976515  -0.13493092\n",
      "   0.15201087  0.41245016]]\n"
     ]
    }
   ],
   "source": [
    "# Define a sample text\n",
    "text = \"Hello, this is a test.\"\n",
    "\n",
    "# Encode the text to get the input tensors\n",
    "inputs = tokenizer(text, return_tensors='pt')\n",
    "\n",
    "# Run the text through the model to get the embeddings\n",
    "outputs = model(**inputs)\n",
    "\n",
    "# Use the average of the last hidden state as the text's embedding\n",
    "embeddings = outputs.last_hidden_state.mean(dim=1)\n",
    "\n",
    "# Convert the tensor to a numpy array\n",
    "vectors = embeddings.detach().numpy()\n",
    "\n",
    "print (vectors[:, :50])"
   ]
  }
 ],
 "metadata": {
  "kernelspec": {
   "display_name": "base",
   "language": "python",
   "name": "python3"
  },
  "language_info": {
   "codemirror_mode": {
    "name": "ipython",
    "version": 3
   },
   "file_extension": ".py",
   "mimetype": "text/x-python",
   "name": "python",
   "nbconvert_exporter": "python",
   "pygments_lexer": "ipython3",
   "version": "3.10.9"
  },
  "orig_nbformat": 4
 },
 "nbformat": 4,
 "nbformat_minor": 2
}
